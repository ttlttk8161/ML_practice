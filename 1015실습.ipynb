{
  "cells": [
    {
      "cell_type": "markdown",
      "metadata": {
        "id": "view-in-github",
        "colab_type": "text"
      },
      "source": [
        "<a href=\"https://colab.research.google.com/github/ttlttk8161/ML_practice/blob/main/1015%EC%8B%A4%EC%8A%B5.ipynb\" target=\"_parent\"><img src=\"https://colab.research.google.com/assets/colab-badge.svg\" alt=\"Open In Colab\"/></a>"
      ]
    },
    {
      "cell_type": "markdown",
      "source": [
        "# Initailize Repository"
      ],
      "metadata": {
        "id": "pL1pgEDr2P3A"
      }
    },
    {
      "cell_type": "code",
      "source": [
        "import torch\n",
        "from torch import nn\n",
        "from torch.autograd import Variable\n",
        "import numpy as np\n",
        "import matplotlib.pyplot as plt\n",
        "from google.colab import drive\n",
        "drive.mount('/content/gdrive')"
      ],
      "metadata": {
        "colab": {
          "base_uri": "https://localhost:8080/"
        },
        "id": "Q2ADdkxm2OCM",
        "outputId": "68b34e68-ff92-488e-db23-eadc3416d735"
      },
      "execution_count": 3,
      "outputs": [
        {
          "output_type": "stream",
          "name": "stdout",
          "text": [
            "Drive already mounted at /content/gdrive; to attempt to forcibly remount, call drive.mount(\"/content/gdrive\", force_remount=True).\n"
          ]
        }
      ]
    },
    {
      "cell_type": "code",
      "source": [
        "class FeedforwardNeuralNetModel(nn.Module):\n",
        "  def __init__(self, input_dim, hidden_dim, output_dim):\n",
        "    super(FeedforwardNeuralNetModel, self).__init__()\n",
        "    # Linear function\n",
        "    self.fc1 = nn.Linear(input_dim, hidden_dim)\n",
        "    # Non-linear\n",
        "    self.sigmoid = nn.Sigmoid()\n",
        "    # Output Linear function\n",
        "    self.fc2 = nn.Linear(hidden_dim, output_dim)\n",
        "\n",
        "  def forward(self, x):\n",
        "    # Linear function # LINEAR\n",
        "    out = self.fc1(x)\n",
        "    # Non-linearity # NON- LINEAR\n",
        "    out = self.sigmoid(out)\n",
        "    # Linear function (readout) # LINEAR\n",
        "    out = self.fc2(out)\n",
        "    return out"
      ],
      "metadata": {
        "id": "SfqSDvme3YJQ"
      },
      "execution_count": 4,
      "outputs": []
    },
    {
      "cell_type": "code",
      "source": [
        "# generate the input data\n",
        "x_vals = np.random.rand(50)\n",
        "x_train = np.asarray(x_vals, dtype=np.float32).reshape(-1,1)\n",
        "y_correct = np.asarray([i**2 for i in x_vals], dtype=np.float32).reshape(-1,1)\n",
        "# instantiate network\n",
        "input_dim = 1\n",
        "output_dim = 1\n",
        "hidden_dim = 20\n",
        "modelFF = FeedforwardNeuralNetModel(input_dim, hidden_dim, output_dim)\n",
        "criterionFF = nn.MSELoss()\n",
        "l_rate = 0.01\n",
        "\n",
        "optimiser = torch.optim.Adam(modelFF.parameters(), lr = l_rate)\n",
        "\n",
        "epochs = 5000"
      ],
      "metadata": {
        "id": "_9P8n5Dn4W26"
      },
      "execution_count": 5,
      "outputs": []
    },
    {
      "cell_type": "code",
      "source": [
        "# Trainin\n",
        "for epoch in range(epochs):\n",
        "  epoch +=1\n",
        "  # increase the number of epochs by 1 every time\n",
        "  inputs = Variable(torch.from_numpy(x_train))\n",
        "  labels = Variable(torch.from_numpy(y_correct))\n",
        "  # clear grads\n",
        "  optimiser.zero_grad()\n",
        "  # forward to get predicted values\n",
        "  outputs = modelFF.forward(inputs)\n",
        "  loss = criterionFF(outputs, labels)\n",
        "  loss.backward() #back props\n",
        "  optimiser.step() # update  parameters\n",
        "\n",
        "  if (epoch +1) % 500 == 0: # Logging\n",
        "    print('Epoch [%d/%d], Loss: %.4f' %(epoch+1, epochs, loss.item()))\n",
        "    print('Final - epoch {}, loss {}'.format(epoch,loss.item()))\n"
      ],
      "metadata": {
        "collapsed": true,
        "colab": {
          "base_uri": "https://localhost:8080/"
        },
        "id": "ssbu8Xps7y2S",
        "outputId": "ae81da47-5f8c-4d12-f2cb-1a500078c42b"
      },
      "execution_count": 6,
      "outputs": [
        {
          "output_type": "stream",
          "name": "stdout",
          "text": [
            "Epoch [500/5000], Loss: 0.0046\n",
            "Final - epoch 499, loss 0.00457401480525732\n",
            "Epoch [1000/5000], Loss: 0.0017\n",
            "Final - epoch 999, loss 0.0016958704218268394\n",
            "Epoch [1500/5000], Loss: 0.0001\n",
            "Final - epoch 1499, loss 5.7654440752230585e-05\n",
            "Epoch [2000/5000], Loss: 0.0000\n",
            "Final - epoch 1999, loss 3.586948514566757e-05\n",
            "Epoch [2500/5000], Loss: 0.0000\n",
            "Final - epoch 2499, loss 3.2623851438984275e-05\n",
            "Epoch [3000/5000], Loss: 0.0000\n",
            "Final - epoch 2999, loss 2.8913624191773124e-05\n",
            "Epoch [3500/5000], Loss: 0.0000\n",
            "Final - epoch 3499, loss 2.4605215003248304e-05\n",
            "Epoch [4000/5000], Loss: 0.0000\n",
            "Final - epoch 3999, loss 1.9563558453228325e-05\n",
            "Epoch [4500/5000], Loss: 0.0000\n",
            "Final - epoch 4499, loss 1.4554809240507893e-05\n",
            "Epoch [5000/5000], Loss: 0.0000\n",
            "Final - epoch 4999, loss 1.0854726497200318e-05\n"
          ]
        }
      ]
    },
    {
      "cell_type": "code",
      "source": [
        "  # Test Training\n",
        "  predicted = modelFF.forward(Variable(torch.from_numpy(x_train))).data.numpy()\n",
        "  plt.plot(x_train, y_correct, 'go', label = 'from data', alpha = 0.2)\n",
        "  plt.plot(x_train, predicted, 'b*', label = 'prediction', alpha = 0.2)\n",
        "  plt.legend()\n",
        "  plt.show()"
      ],
      "metadata": {
        "id": "UpaMfgj5_l3W",
        "outputId": "47a3e3ea-1fc0-40e2-c97c-95c9dcefb65c",
        "colab": {
          "base_uri": "https://localhost:8080/",
          "height": 430
        }
      },
      "execution_count": 7,
      "outputs": [
        {
          "output_type": "display_data",
          "data": {
            "text/plain": [
              "<Figure size 640x480 with 1 Axes>"
            ],
            "image/png": "[encoded data removed]"
          },
          "metadata": {}
        }
      ]
    }
  ],
  "metadata": {
    "colab": {
      "name": "Colab 시작하기",
      "provenance": [],
      "gpuType": "T4",
      "include_colab_link": true
    },
    "kernelspec": {
      "display_name": "Python 3",
      "name": "python3"
    },
    "accelerator": "GPU"
  },
  "nbformat": 4,
  "nbformat_minor": 0
}