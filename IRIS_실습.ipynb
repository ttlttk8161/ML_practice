{
  "cells": [
    {
      "cell_type": "markdown",
      "metadata": {
        "id": "view-in-github",
        "colab_type": "text"
      },
      "source": [
        "<a href=\"https://colab.research.google.com/github/ttlttk8161/ML_practice/blob/IRIS-practice/IRIS_%EC%8B%A4%EC%8A%B5.ipynb\" target=\"_parent\"><img src=\"https://colab.research.google.com/assets/colab-badge.svg\" alt=\"Open In Colab\"/></a>"
      ]
    },
    {
      "cell_type": "code",
      "source": [
        "import torch\n",
        "import numpy as np\n",
        "import matplotlib.pyplot as plt\n",
        "from google.colab import drive\n",
        "drive.mount('/content/gdrive')"
      ],
      "metadata": {
        "id": "6sM1WstrBtOp",
        "outputId": "8169b122-7178-4e2c-8dbc-3354e257199f",
        "colab": {
          "base_uri": "https://localhost:8080/"
        }
      },
      "execution_count": 2,
      "outputs": [
        {
          "output_type": "stream",
          "name": "stdout",
          "text": [
            "Mounted at /content/gdrive\n"
          ]
        }
      ]
    },
    {
      "cell_type": "code",
      "source": [
        "# check versions\n",
        "print(\"Pytorch version: {}\".format(torch.__version__))\n",
        "print(\"Numpy version: {}\".format(np.__version__))"
      ],
      "metadata": {
        "id": "WhBMVWuYCEqX",
        "outputId": "a13610dc-90bf-485d-98c9-a5e192bb552d",
        "colab": {
          "base_uri": "https://localhost:8080/"
        }
      },
      "execution_count": 3,
      "outputs": [
        {
          "output_type": "stream",
          "name": "stdout",
          "text": [
            "Pytorch version: 2.8.0+cu126\n",
            "Numpy version: 2.0.2\n"
          ]
        }
      ]
    },
    {
      "cell_type": "code",
      "source": [
        "# Load Iris Dataset\n",
        "FILE_PATH = \"/My Drive/\"\n",
        "MAIN_FILE_NAME = \"iris_dataset.txt\"\n",
        "TRAIN_FILE_NAME = \"iris_train_dataset.txt\"\n",
        "TEST_FILE_NAME = \"iris_test_dataset.txt\"\n",
        "NUM_FEATRUE = 4\n",
        "NUM_CLASS = 3\n",
        "num_epoch = 200"
      ],
      "metadata": {
        "id": "yd36OGwHCPJP"
      },
      "execution_count": 9,
      "outputs": []
    },
    {
      "cell_type": "code",
      "source": [
        "#data = np.loadtxt(FILE_PATH + MAIN_FILE_NAME, delimiter=\",\")\n",
        "data = np.loadtxt(\"/content/gdrive/My Drive/iris_dataset.txt\", delimiter=\",\")\n",
        "mean_data = np.mean((data[:,:NUM_FEATRUE]), axis = 0)\n",
        "std_data = np.std((data[:,:NUM_FEATRUE]), axis = 0)"
      ],
      "metadata": {
        "id": "9KJ4zIGXCjfe"
      },
      "execution_count": 15,
      "outputs": []
    }
  ],
  "metadata": {
    "colab": {
      "name": "Colab 시작하기",
      "provenance": [],
      "include_colab_link": true
    },
    "kernelspec": {
      "display_name": "Python 3",
      "name": "python3"
    }
  },
  "nbformat": 4,
  "nbformat_minor": 0
}